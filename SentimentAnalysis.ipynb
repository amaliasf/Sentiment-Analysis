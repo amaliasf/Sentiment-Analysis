{
  "nbformat": 4,
  "nbformat_minor": 0,
  "metadata": {
    "colab": {
      "name": "Sentiment Analysis.ipynb",
      "provenance": [],
      "collapsed_sections": []
    },
    "kernelspec": {
      "name": "python3",
      "display_name": "Python 3"
    }
  },
  "cells": [
    {
      "cell_type": "code",
      "metadata": {
        "id": "yoQQR1NcMVGu",
        "colab": {
          "base_uri": "https://localhost:8080/",
          "height": 363
        },
        "outputId": "b39b8836-6760-4727-bd0b-1f678f3dbcbb"
      },
      "source": [
        "#import library and all the required key\n",
        "import tweepy\n",
        "import csv, re\n",
        "import pandas as pd\n",
        "import matplotlib.pyplot as plt\n",
        "import numpy as np\n",
        "\n",
        "class twitter:\n",
        "  def __init__(self):\n",
        "    pass\n",
        "  \n",
        "  def ambil_data(self, kata_kunci):\n",
        "    #persiapkan key\n",
        "    consumer_key = \"XXXXXXXXXXXXXXXXXXX\"\n",
        "    consumer_secret = \"XXXXXXXXXXXXXXXXXXXXXXXXXXXXXXXXXXXXXXXXXXXXXXXXX\"\n",
        "    access_token = \"XXXXXXXXXXXXXXXXXXXXXXXXXXXXXXXXXXXXXXXXXXXXXXXXXXX\"\n",
        "    access_token_secret = \"XXXXXXXXXXXXXXXXXXXXXXXXXXXXXXXXXXXXXXXXXXXX\"\n",
        "\n",
        "    #buat handler auth\n",
        "    auth = tweepy.OAuthHandler(consumer_key, consumer_secret)\n",
        "    auth.set_access_token(access_token, access_token_secret)\n",
        "    api = tweepy.API(auth)\n",
        "\n",
        "    #buat fungsi pengambilan berdasarkan kata kunci\n",
        "    kunci_baru = kata_kunci + \" -filter:retweets\"\n",
        "    date_since = \"2020-10-10\"\n",
        "    tweets = api.search(q=kunci_baru, lang='id', since=date_since, count=500, tweet_mode='extended')\n",
        "    hasil = [tweet.full_text for tweet in tweets]\n",
        "    df = pd.DataFrame(hasil, columns=['tweet'])\n",
        "    return df\n",
        "  \n",
        "  def simpan_data(self, df, file):\n",
        "    data = df\n",
        "    data.to_csv(file, index = False)\n",
        "  \n",
        "  def praproses(self, file):\n",
        "    data = pd.read_csv(file)\n",
        "    items = [' '.join(re.sub(\"(@[A-Za-z0-9]+)|([^0-9A-Za-z \\t])|(\\w+:\\/\\/\\S+)\", \" \", tweet).split()) for tweet in data.iloc[:,0] ]\n",
        "    return items\n",
        "  \n",
        "  def analisis(self, file):\n",
        "    data = file\n",
        "    pos_list= open(\"./kata_positif.txt\",\"r\")\n",
        "    pos_kata = pos_list.readlines()\n",
        "    neg_list= open(\"./kata_negatif.txt\",\"r\")\n",
        "    neg_kata =  neg_list.readlines()\n",
        "\n",
        "    Sentiment = []\n",
        "    for item in data:\n",
        "      count_p = 0\n",
        "      count_n = 0\n",
        "      for kata_pos in pos_kata:\n",
        "          if kata_pos.strip() in item:\n",
        "            count_p +=1\n",
        "      for kata_neg in neg_kata:\n",
        "          if kata_neg.strip() in item:\n",
        "            count_n +=1\n",
        "\n",
        "      Sentiment.append(count_p - count_n)\n",
        "    return Sentiment\n",
        "  \n",
        "  def visualisasi(self, data):\n",
        "    hasil = data\n",
        "    print (\"Nilai rata-rata: \"+str(np.mean(hasil)))\n",
        "    print (\"Median: \"+str(np.median(hasil)))\n",
        "\n",
        "    labels, counts = np.unique(hasil, return_counts=True)\n",
        "    plt.bar(labels, counts, align='center')\n",
        "    plt.gca().set_xticks(labels)\n",
        "    plt.show()\n",
        "\n",
        "#write the data to csv\n",
        "file = 'data_sentiment.csv'\n",
        "\n",
        "app = twitter()\n",
        "kata_kunci = \"Covid\"\n",
        "data = app.ambil_data(kata_kunci)\n",
        "app.simpan_data(data, file)\n",
        "clean_data = app.praproses(file)\n",
        "analisis_data = app.analisis(clean_data)\n",
        "app.visualisasi(analisis_data)\n",
        "  "
      ],
      "execution_count": null,
      "outputs": [
        {
          "output_type": "error",
          "ename": "FileNotFoundError",
          "evalue": "ignored",
          "traceback": [
            "\u001b[0;31m---------------------------------------------------------------------------\u001b[0m",
            "\u001b[0;31mFileNotFoundError\u001b[0m                         Traceback (most recent call last)",
            "\u001b[0;32m<ipython-input-1-8e92e6cb0629>\u001b[0m in \u001b[0;36m<module>\u001b[0;34m()\u001b[0m\n\u001b[1;32m     77\u001b[0m \u001b[0mapp\u001b[0m\u001b[0;34m.\u001b[0m\u001b[0msimpan_data\u001b[0m\u001b[0;34m(\u001b[0m\u001b[0mdata\u001b[0m\u001b[0;34m,\u001b[0m \u001b[0mfile\u001b[0m\u001b[0;34m)\u001b[0m\u001b[0;34m\u001b[0m\u001b[0;34m\u001b[0m\u001b[0m\n\u001b[1;32m     78\u001b[0m \u001b[0mclean_data\u001b[0m \u001b[0;34m=\u001b[0m \u001b[0mapp\u001b[0m\u001b[0;34m.\u001b[0m\u001b[0mpraproses\u001b[0m\u001b[0;34m(\u001b[0m\u001b[0mfile\u001b[0m\u001b[0;34m)\u001b[0m\u001b[0;34m\u001b[0m\u001b[0;34m\u001b[0m\u001b[0m\n\u001b[0;32m---> 79\u001b[0;31m \u001b[0manalisis_data\u001b[0m \u001b[0;34m=\u001b[0m \u001b[0mapp\u001b[0m\u001b[0;34m.\u001b[0m\u001b[0manalisis\u001b[0m\u001b[0;34m(\u001b[0m\u001b[0mclean_data\u001b[0m\u001b[0;34m)\u001b[0m\u001b[0;34m\u001b[0m\u001b[0;34m\u001b[0m\u001b[0m\n\u001b[0m\u001b[1;32m     80\u001b[0m \u001b[0mapp\u001b[0m\u001b[0;34m.\u001b[0m\u001b[0mvisualisasi\u001b[0m\u001b[0;34m(\u001b[0m\u001b[0manalisis_data\u001b[0m\u001b[0;34m)\u001b[0m\u001b[0;34m\u001b[0m\u001b[0;34m\u001b[0m\u001b[0m\n\u001b[1;32m     81\u001b[0m \u001b[0;34m\u001b[0m\u001b[0m\n",
            "\u001b[0;32m<ipython-input-1-8e92e6cb0629>\u001b[0m in \u001b[0;36manalisis\u001b[0;34m(self, file)\u001b[0m\n\u001b[1;32m     41\u001b[0m   \u001b[0;32mdef\u001b[0m \u001b[0manalisis\u001b[0m\u001b[0;34m(\u001b[0m\u001b[0mself\u001b[0m\u001b[0;34m,\u001b[0m \u001b[0mfile\u001b[0m\u001b[0;34m)\u001b[0m\u001b[0;34m:\u001b[0m\u001b[0;34m\u001b[0m\u001b[0;34m\u001b[0m\u001b[0m\n\u001b[1;32m     42\u001b[0m     \u001b[0mdata\u001b[0m \u001b[0;34m=\u001b[0m \u001b[0mfile\u001b[0m\u001b[0;34m\u001b[0m\u001b[0;34m\u001b[0m\u001b[0m\n\u001b[0;32m---> 43\u001b[0;31m     \u001b[0mpos_list\u001b[0m\u001b[0;34m=\u001b[0m \u001b[0mopen\u001b[0m\u001b[0;34m(\u001b[0m\u001b[0;34m\"./kata_positif.txt\"\u001b[0m\u001b[0;34m,\u001b[0m\u001b[0;34m\"r\"\u001b[0m\u001b[0;34m)\u001b[0m\u001b[0;34m\u001b[0m\u001b[0;34m\u001b[0m\u001b[0m\n\u001b[0m\u001b[1;32m     44\u001b[0m     \u001b[0mpos_kata\u001b[0m \u001b[0;34m=\u001b[0m \u001b[0mpos_list\u001b[0m\u001b[0;34m.\u001b[0m\u001b[0mreadlines\u001b[0m\u001b[0;34m(\u001b[0m\u001b[0;34m)\u001b[0m\u001b[0;34m\u001b[0m\u001b[0;34m\u001b[0m\u001b[0m\n\u001b[1;32m     45\u001b[0m     \u001b[0mneg_list\u001b[0m\u001b[0;34m=\u001b[0m \u001b[0mopen\u001b[0m\u001b[0;34m(\u001b[0m\u001b[0;34m\"./kata_negatif.txt\"\u001b[0m\u001b[0;34m,\u001b[0m\u001b[0;34m\"r\"\u001b[0m\u001b[0;34m)\u001b[0m\u001b[0;34m\u001b[0m\u001b[0;34m\u001b[0m\u001b[0m\n",
            "\u001b[0;31mFileNotFoundError\u001b[0m: [Errno 2] No such file or directory: './kata_positif.txt'"
          ]
        }
      ]
    }
  ]
}