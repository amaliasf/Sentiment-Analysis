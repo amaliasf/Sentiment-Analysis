{
  "nbformat": 4,
  "nbformat_minor": 0,
  "metadata": {
    "colab": {
      "name": "Twitter-SQL.ipynb",
      "provenance": [],
      "collapsed_sections": []
    },
    "kernelspec": {
      "name": "python3",
      "display_name": "Python 3"
    }
  },
  "cells": [
    {
      "cell_type": "code",
      "metadata": {
        "id": "-p80Q9MceKYF",
        "colab": {
          "base_uri": "https://localhost:8080/"
        },
        "outputId": "b337c052-73ea-4827-9ee1-7d62a2b03c68"
      },
      "source": [
        "#import library and all the required key\n",
        "import tweepy\n",
        "import pandas as pd\n",
        "import sqlite3\n",
        "import numpy as np\n",
        "\n",
        "class twitter:\n",
        "  def __init__(self):\n",
        "    pass\n",
        "  \n",
        "  def ambil_data(self):\n",
        "    #persiapkan key\n",
        "    consumer_key = \"XXXXXXXXXXXXXXXXXXXXX\"\n",
        "    consumer_secret = \"XXXXXXXXXXXXXXXXXXXXXXXXXXXXXXXXXXXXXXXXXXXXXXXXX\"\n",
        "    access_token = \"XXXXXXXXXXXXXXXXXXXXXXXXXXXXXXXXXXXXXXXXXXXXXXXXXX\"\n",
        "    access_token_secret = \"XXXXXXXXXXXXXXXXXXXXXXXXXXXXXXXXXXXXXXXXXXXXX\"\n",
        "\n",
        "    #buat handler auth\n",
        "    auth = tweepy.OAuthHandler(consumer_key, consumer_secret)\n",
        "    auth.set_access_token(access_token, access_token_secret)\n",
        "    api = tweepy.API(auth, wait_on_rate_limit=True)\n",
        "\n",
        "    \n",
        "    #buat fungsi pengambilan berdasarkan kata kunci\n",
        "    search_words = [\"cipta kerja\",\"ciptaker\", \"omnibus law\"]\n",
        "    # search_words = \"cipta kerja\"\n",
        "    #new_search = str.search_words + \" -filter:retweets\"\n",
        "    date_since = \"2020-10-21\"\n",
        "    date_until = \"2020-10-23\"\n",
        "    nomor = []\n",
        "    items = []\n",
        "    waktu = []\n",
        "    akun = []\n",
        "    lokasi = []\n",
        "\n",
        "    for tweet in tweepy.Cursor(api.search,q=search_words, count=300, lang=\"id\", since= date_since, until = date_until).items():\n",
        "      nomor.append(tweet.id)\n",
        "      items.append(tweet.text)\n",
        "      waktu.append(tweet.created_at)\n",
        "      akun.append(tweet.user.screen_name)\n",
        "      lokasi.append(tweet.user.location)\n",
        "   \n",
        "    #memasukkan dalam dataframe\n",
        "    df = pd.DataFrame({'ID' : nomor, 'Tweets' : items, 'Waktu' : waktu, 'Akun' : akun, 'Lokasi' : lokasi})\n",
        "    print (df)\n",
        "    return df\n",
        "  \n",
        "  def simpan_data(self, df):\n",
        "    conn = sqlite3.connect('data_to_sql.db')\n",
        "    c = conn.cursor()\n",
        "    c.execute('CREATE TABLE data_tweet (ID, Tweets, Waktu, Akun, Lokasi)')\n",
        "    conn.commit()\n",
        "    df.to_sql('data_tweet', conn, if_exists='replace', index = False)\n",
        "\n",
        "app = twitter()\n",
        "data = app.ambil_data()\n",
        "app.simpan_data(data)  "
      ],
      "execution_count": null,
      "outputs": [
        {
          "output_type": "stream",
          "text": [
            "                      ID  ...                    Lokasi\n",
            "0    1319426925522161664  ...                          \n",
            "1    1319424690234904577  ...                 Indonesia\n",
            "2    1319422818178584578  ...                          \n",
            "3    1319421172656730112  ...   Tasikmalaya, Jawa Barat\n",
            "4    1319419774221258753  ...                 Indonesia\n",
            "..                   ...  ...                       ...\n",
            "747  1318733744459579392  ...                          \n",
            "748  1318730579324514305  ...                          \n",
            "749  1318719833559629825  ...                 Indonesia\n",
            "750  1318719672422858752  ...                     bogor\n",
            "751  1318714322860662784  ...             di bumi ALLAH\n",
            "\n",
            "[752 rows x 5 columns]\n"
          ],
          "name": "stdout"
        }
      ]
    }
  ]
}